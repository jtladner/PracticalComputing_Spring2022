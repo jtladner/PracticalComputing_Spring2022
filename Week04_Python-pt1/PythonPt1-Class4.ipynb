{
 "cells": [
  {
   "cell_type": "markdown",
   "metadata": {},
   "source": [
    "# This notebook will introduce you to some basic Python syntax\n",
    "##   (Particularly, it will focus on the most common variable types and their built-in methods.)"
   ]
  },
  {
   "cell_type": "markdown",
   "metadata": {},
   "source": [
    "# Comments!"
   ]
  },
  {
   "cell_type": "code",
   "execution_count": null,
   "metadata": {},
   "outputs": [],
   "source": [
    "# Any text followed by a '#' symbol is a comment. \n",
    "# Python ignores text included in comments\n",
    "# Use comments liberally to document what your script is doing\n",
    "    # Or perhaps to give instructions to others about how your script could be altered for other purposes\n",
    "# You cannot have too many comments!\n",
    "\n",
    "\"\"\"It is often taught that if you want \n",
    "to create comments that span multiple\n",
    "lines, you can enclose them in triple quotes.\n",
    "However, the behaviour is not exactly the same.\n",
    "\"\"\"\n",
    "\n",
    "x = \"\"\"These 'comments' are still interpreted as code,\n",
    "as strings actually, and can be saved to a variable\"\"\"\n",
    "\n",
    "x = x + \", and later manipulated.\"\n",
    "\n",
    "print (x)     # This line prints the contents of the variable \"x\" to the screen\n",
    "\n",
    "### Tip: You can execute the code within this cell by using \"Control-Enter\", Shift-Enter\" \n",
    "###      or pushing the Play button at the top of the notebook. At the bottom\n",
    "###      of the cell, you will see the text that would appear on the terminal window\n",
    "###      if this code was run within a script at the command line. "
   ]
  },
  {
   "cell_type": "markdown",
   "metadata": {},
   "source": [
    "# Strings"
   ]
  },
  {
   "cell_type": "code",
   "execution_count": null,
   "metadata": {},
   "outputs": [],
   "source": [
    "s = 'This is a string' #And it has been assigned to a variable called 's'\n",
    "\n",
    "'This is also a string' #However, this string was NOT assigned to a variable, or printed to the screen, or written to an output file\n",
    "# So, it really serves no purpose\n",
    "# It's code garbage\n",
    "\n",
    "# To send the contents of the string to the screen (i.e., terminal window), use the 'print' command\n",
    "print (s)\n",
    "\n",
    "# You can also print strings directly, without assigning them to a variable first\n",
    "print ('This is also a string')\n",
    "\n",
    "# Double and single quotes are interchangeable in Python, both can be used to create strings\n",
    "print (\"This is a string in double quotes\") "
   ]
  },
  {
   "cell_type": "code",
   "execution_count": null,
   "metadata": {},
   "outputs": [],
   "source": [
    "# Triple quotes can be used to generate multiline strings\n",
    "print (\"\"\"This string spans\n",
    "multiple lines!\n",
    "\"\"\")\n",
    "\n",
    "#However, the same can be accomplished using the \\n notation\n",
    "print (\"This string spans\\nmultiple lines too!\\n\")\n"
   ]
  },
  {
   "cell_type": "code",
   "execution_count": null,
   "metadata": {},
   "outputs": [],
   "source": [
    "# In Python, strings are immutable, which means that they cannot be altered\n",
    "alpha = \"abcdefghijklmnop\"\n",
    "\n",
    "# Therefore, you can't directly add the rest of the alphabet onto the string currently assigned to the variable alpha\n",
    "# However, you can reassign variable names to altered versions of strings\n",
    "\n",
    "alpha = alpha + \"qrstuvwxyz\"  #I know...it's a subtle distinction, but will become important later\n",
    "\n",
    "#The above statement might seem a bit strange because we are both using and reassigning the alpha variable in the same line\n",
    "#However, this works because the statement to the right of the \"=\" is evaluated BEFORE the variable is reassigned\n",
    "\n",
    "print (alpha)"
   ]
  },
  {
   "cell_type": "code",
   "execution_count": null,
   "metadata": {},
   "outputs": [],
   "source": [
    "# Here is another way to accomplish the same thing with simpler syntax\n",
    "\n",
    "alphabet = \"abcdefghijklmnop\"\n",
    "alphabet += \"qrstuvwxyz\"\n",
    "print(alphabet)"
   ]
  },
  {
   "cell_type": "markdown",
   "metadata": {},
   "source": [
    "# Assignment 1.1\n",
    "\n",
    "## Within the next cell, do the following:\n",
    "### 1. Create a variable called *first* that contains your first name as a string \n",
    "### 2. Create a variable called *last* that contains your last name as a string \n",
    "### 3. Use print to display the content of these variables\n",
    "### 4. Create a new variable called *full* that contains your full name. Do NOT retype your first and last name, rather use your existing *first* and *last* variables. And don't forget to add a space between your first and last names!\n",
    "### 5. Use print to display the content of the *full* variable"
   ]
  },
  {
   "cell_type": "code",
   "execution_count": null,
   "metadata": {},
   "outputs": [],
   "source": [
    "\n",
    "\n",
    "\n",
    "\n",
    "\n"
   ]
  },
  {
   "cell_type": "markdown",
   "metadata": {},
   "source": [
    "# String methods"
   ]
  },
  {
   "cell_type": "code",
   "execution_count": null,
   "metadata": {},
   "outputs": [],
   "source": [
    "# Many variable types in Python have built-in methods that can be called using \"dot notation\"\n",
    "# You can use the built-in function dir() to view the methods associated with a particular variable\n",
    "\n",
    "seq = \"nnnnnnnacgtn-gggtcgattcta---nnnnntgatagnnnnnn\"    #Creating a string variable\n",
    "print (dir(seq))                                         #Using dir() to get a list of the built-in string methods\n"
   ]
  },
  {
   "cell_type": "code",
   "execution_count": null,
   "metadata": {},
   "outputs": [],
   "source": [
    "# One built-in string method (upper()) will allow you to convert a string from lowercase to uppercase\n",
    "\n",
    "#Remember, strings are NOT mutable, therefore, this method will NOT alter your string in place\n",
    "print(\"seq before:\", seq)\n",
    "seq.upper()\n",
    "print(\"seq after:\", seq, \"\\n\")    #Comma separated items provided to print are printed together, but separated by spaces\n",
    "\n",
    "#Rather, if you want to save the new version, you need to save the output it to a new variable, or reassign the starting variable \n",
    "seq_upper = seq.upper() \n",
    "print (\"seq:\", seq, \"\\nseq_upper:\", seq_upper, \"\\n\")\n",
    "\n",
    "\n",
    "# One nice thing is that you don't need to worry about charaters that are already uppercase, they won't be altered\n"
   ]
  },
  {
   "cell_type": "code",
   "execution_count": null,
   "metadata": {},
   "outputs": [],
   "source": [
    "# Another useful method allows you to quickly \"strip\" a certain character from the beginning and ending of a string\n",
    "# Therefore, this method can be used to easily remove Ns from the beginning and ends of seqs, like we did in the first class with regular expressions \n",
    "noN_seq_upper = seq_upper.strip('N')\n",
    "print (\"noN_seq_upper:\", noN_seq_upper, \"\\n\")\n"
   ]
  },
  {
   "cell_type": "code",
   "execution_count": null,
   "metadata": {},
   "outputs": [],
   "source": [
    "# If you dont' provide an argument to strip, it will remove all leading and trailing white space, including new lines\n",
    "# This is very useful when parsing through text files\n",
    "test_line=\"   A line of text.  \\n\"\n",
    "print (\"Start Length:\", len(test_line))    ### len() will return the length of a string\n",
    "print (\"Start String:\", test_line)\n",
    "\n",
    "stripped_line = test_line.strip()\n",
    "print (\"Stripped Length:\", len(stripped_line))\n",
    "print (\"Stripped String:\", stripped_line)\n"
   ]
  },
  {
   "cell_type": "code",
   "execution_count": null,
   "metadata": {},
   "outputs": [],
   "source": [
    "# Remember, any methods that start and end with \"__\" are \"special\" or \"magic\" methods that are not meant to be called directly\n",
    "# For example, __getitem__ is a method that allows you to extract a subset of characters from a string\n",
    "\n",
    "# This is how your are expected to utilize this method. We will cover this syntax next week. \n",
    "print (noN_seq_upper[0])\n",
    "\n",
    "# However, this works exactly the same way\n",
    "print (noN_seq_upper.__getitem__(0))  \n",
    "\n",
    "#Note: to extract the first character, I used the \"index\" 0, all counting in Python starts at 0"
   ]
  },
  {
   "cell_type": "markdown",
   "metadata": {},
   "source": [
    "# Assignment 1.2\n",
    "\n",
    "## Within the next cell, I've assigned a long string of characters to the variable *longStr*. Please enter code within this cell to do the following:\n",
    "### 1. Determine the length of this string. Make sure the value is printed to the screen. \n",
    "### 2. Replace the current contents of *longStr* with a version of this string with all uppercase characters.\n",
    "### 3. Use a built-in method described in the book to count the number of N, A and U characters. Print these values to the screen.\n",
    "### 4. Using another built-in method described in the book, replace all occurrances of S with N and then count the number of N characters again. Make sure this new count is also printed to the screen. \n"
   ]
  },
  {
   "cell_type": "code",
   "execution_count": null,
   "metadata": {},
   "outputs": [],
   "source": [
    "longStr = \"ajdiowlandjslalsjAHSISlkjhsAJKHSOlkja298737sdOAKJSKJHPakljdsf9283kljhasfHOIUHlkjhhdGHJKJLKHtredhgmbnvO213908239087IUKJLHMHHGDHFGDas;kd;jnsa234763dflkjhsadfmnfivlmn786123\"\n",
    "\n",
    "\n"
   ]
  },
  {
   "cell_type": "markdown",
   "metadata": {
    "collapsed": true
   },
   "source": [
    "# Integers and floats"
   ]
  },
  {
   "cell_type": "code",
   "execution_count": null,
   "metadata": {},
   "outputs": [],
   "source": [
    "integer = 2               # This assigns the integer (i.e., whole number) 2 to the variable \"integer\"\n",
    "flt = 2.0                 # This assigns the floating point number 2.0 to the variable 'flt\"\n",
    "string = '2.0'            # This is just a string\n",
    "\n",
    "print (integer, flt, string, \"\\n\")   # The print funtion can take all kinds of variables as input\n",
    "\n",
    "#Note how flt and string are indistinguishable after printing \n",
    "#Print actually converts these different variables to strings to print"
   ]
  },
  {
   "cell_type": "code",
   "execution_count": null,
   "metadata": {},
   "outputs": [],
   "source": [
    "# You can use the type() function to check the type of any variable\n",
    "print (\"Output from the type() function:\")\n",
    "print (type(integer), type(flt), type(string), \"\\n\")\n"
   ]
  },
  {
   "cell_type": "code",
   "execution_count": null,
   "metadata": {},
   "outputs": [],
   "source": [
    "# And there are functions available to converting between variable types\n",
    "print (\"Type conversion examples:\")\n",
    "print (float(integer), type(integer), type(float(integer)))   # Convert integer to floating point\n",
    "print (float(string), type(string), type(float(string)))      # Or convert string to floating point\n",
    "print (int(flt), type(flt), type(int(flt)))                   # Convert floating point to integer\n",
    "# int(string)                                               # This would result in an error, use flt() instead\n",
    "print (int('2'), type('2'), type(int('2')))                   # But this works\n",
    "print ('\\n')\n"
   ]
  },
  {
   "cell_type": "code",
   "execution_count": null,
   "metadata": {},
   "outputs": [],
   "source": [
    "# Keep in mind that methods of one variable type may return values of another type\n",
    "# For example, the string method .count()\n",
    "seq = \"nnnnnnnacgtn-gggtcgattcta---nnnnntgatagnnnnnn\"\n",
    "\n",
    "print (\"Number of n characters in seq variable:\", seq.count('n'))\n",
    "print (\"seq variable type:\", type(seq))\n",
    "print (\"'Number of n characters in seq variable' type:\",  type(seq.count('n')))\n"
   ]
  },
  {
   "cell_type": "code",
   "execution_count": null,
   "metadata": {},
   "outputs": [],
   "source": [
    "# Integers and floats also have built-in methods, but most are special\n",
    "\n",
    "print (dir(integer))\n",
    "print ('\\n')\n",
    "print (dir(flt))\n"
   ]
  },
  {
   "cell_type": "markdown",
   "metadata": {},
   "source": [
    "# Arithmetic"
   ]
  },
  {
   "cell_type": "code",
   "execution_count": null,
   "metadata": {},
   "outputs": [],
   "source": [
    "# Instead of using built-in methods, the most common manipulations of integers and floats will be using mathematical operators\n",
    "\n",
    "# Most mathematical operators in python are pretty intuitive and can accept both integers and floats in the same statements\n",
    "\n",
    "# Here we add an integer and a float\n",
    "print (integer + flt)\n",
    "# Here we add an two integers\n",
    "print (integer + integer)\n",
    "\n",
    "# Subtraction\n",
    "print (flt - integer)\n",
    "\n",
    "# Multiplication\n",
    "print (flt*3)\n",
    "\n",
    "#Power function\n",
    "print (10**integer)\n",
    "\n",
    "#Division\n",
    "print (integer/3)\n",
    "print (type(integer), type(3), type(integer/3))   #Note that division using two integers results in a floating point variable\n",
    "print (\"\\n\")"
   ]
  },
  {
   "cell_type": "markdown",
   "metadata": {},
   "source": [
    "# Assignment 1.3\n",
    "\n",
    "## The variable *zika* contains a complete Zika virus genome, though some of the nucleotide positions are ambiguous ('N').\n",
    "## Calculate the following statistics for this sequence:\n",
    "### 1. Percent non-ambiguous characters\n",
    "### 2. Percent GC content (# G or C characters/# non-ambiguous characters\\*100)\n",
    "\n",
    "## Note: print results to the screen and be prepared for both upper case and lower case characters"
   ]
  },
  {
   "cell_type": "code",
   "execution_count": null,
   "metadata": {},
   "outputs": [],
   "source": [
    "zika = 'NNNNNNNNNNNNgTGTGAATCAGACTGCGACAGTTCGAGTTTGAAGCGAAAGCTAGCAACAGTATCAACAGGTTTTATTTTGGATTTGGAAACGAGAGTTTCTGGTCATGAAAAACCCAAAAAAGAAATCCGGAGGATTCCGGATTGTCAATATGCTAAAACGCGGAGTAGCCCGTGTGAGCCCCTTTGGGGGCTTGAAGAGGCTGCCAGCCGGACTTCTGCTGGGTCATGGGCCCATCAGGATGGTCTTGGCGATTCTAGCCTTTTTGAGATTCACGGCAATCAAGCCATCACTGGGTCTCATCAATAGATGGGGTTCAGTGGGGAAAAAAGAGGCTATGGAAATAATAAAGAAGTTCAAGAAAGATCTGGCTGCCATGCTGAGAATAATCAATGCTAGGAAGGAGAAGAAGAGACGAGGCGCAGATACTAGTGTCGGAATTGTTGGCCTCCTGCTGACCACAGCTATGGCAGCGGAGGTCACTAGACGTGGGAGTGCATACTATATGTACTTGGACAGAAACGATGCTGGGGAGGCCATATCTTTTCCAACCACATTGGGGATGAATAAGTGTTATATACAGATCATGGATCTTGGACACATGTGTGACGCCACCATGAGCTATGAATGCCCTATGCTGGATGAGGGGGTGGAACCAGATGACGTCGATTGTTGGTGCAACACGACGTCAACTTGGGTTGTGTACGGAACCTGCCATCACAAAAAAGGTGAAGCACGGAGATCTAGAAGAGCTGTGACGCTCCCCTCCCATTCCACTAGGAAGCTGCAAACGCGGTCGCAAACCTGGTTGGAATCAAGAGAATACACAAGGCACTTGATTAGAGTCGAAAATTGGATATTCAGGAACCCTGGCTTCGCGTTAGCAGCAGCTGCCATCGCTTGGCTTTTGGGAAGCTCAACGAGCCAAAAAGTCATATACTTGGTCATGATACTGCTGATTGCCCCGGCATACAGCATCAGGTGCATAGGAGTCAGCAATAGGGACTTTGTGGAAGGTATGTCAGGTGGGACTTGGGTTGATGTTGTCTTGGAACATGGAGGTTGTGTCACCGTAATGGCACAGGACAAACCGACTGTCGACATAGAGCTGGTTACAACAACAGTCAGCAACATGGCGGAGGTAAGATCCTACTGCTATGAGGCATCAATATCAGACATGGCTTCGGACAGCCGCTGCCCAACACAAGGTGAAGCCTACCTTGACAAGCAATCAGACACTCAATATGTCTGCAAAAGAACGTTGGTGGACAGAGGCTGGGGAAATGGATGTGGACTTTTTGGCAAAGGGAGCCTGGTGACATGCGCTAGGTTTGCATGCTCCAAGAAAATGACCGGGAAGAGCATCCAGCCAGAGAATCTGGAGTACCGGATAATGCTGTCAGTTCATGGCTCCCAGCACAGTGGGATGATCGTTAATGACACAGGACATGAAACTGATGAGAATAGAGCGAAGGTTGAGATAACGCCCAATTCACCAAGAGCCGAAGCCACCCTGGGGGGTTTTGGAAGCCTAGGACTTGATTGTGAACCGAGGACAGGCCTTGACTTTTCAGATTTGTATTACTTGACTATGAATAACAAGCACTGGTTGGTTCACAAGGAGTGGTTCCACGACATTCCATTACCTTGGCACGCTGGGGCAGACACCGGAACTCCACACTGGAACAACAAAGAAGCACTGGTAGAGTTCAAGGACGCACATGCCAAGAGGCAAACTGTCGTGGTTCTAGGGAGCCAAGAAGGAGCAGTTCACACGGCCCTTGCTGGAGCTCTGGAGGCTGAGATGGATGGTGCAAAGGGAAGGCTGTCCTCTGGCCACTTGAAATGTCGCCTGAAAATGGATAAACTTAGATTGAAGGGCGTGTCATACTCCTTGTGTACCGCAGCGTTCACATTCACCAAGATCCCGGCTGAAACACTGCACGGGACAGTCACAGTGGAGGTACAGTACGCAGGGACAGATGGACCTTGCAAGGTTCCAGCTCAGATGGCGGTGGACATGCAAACTCTGACCCCAGTTGGGAGGTTGATAACCGCTAACCCCGTAATCACTGAAAGCACTGAGAACTCTAAGATGATGCTGGAACTTGATCCACCATTTGGGGACTCTTACATTGTCATAGGAGTCGGGGAGAAGAAGATCACCCACCACTGGCACAGGAGTGGCAGCACCATTGGAAAAGCATTTGAAGCCACTGTGAGAGGTGCCAAGAGAATGGCAGTCTTGGGAGACACAGCCTGGGACTTTGGATCAGTTGGAGGCGCTCTCAACTCATTGGGCAAGGGCATCCATCAAATTTTTGGAGCAGCTTTCAAATCATTGTTTGGAGGAATGTCCTGGTTCTCACAAATTCTCATTGGAACGTTGCTGATGTGGTTGGGTCTGAACACAAAGAATGGATCTATTTCCCTTATGTGCTTGGCCTTAGGGGGAGTGTTGATCTTCTTATCCACAGCCGTCTCTGCTGATGTGGGGTGCTCGGTGGACTTCTCAAAGAAGGAGACGAGATGCGGTACAGGGGTGTTCGTCTATAACGACGTTGAAGCCTGGAGGGACAGGTACAAGTACCATCCTGACTCCCCCCGTAGATTGGCAGCAGCAGTCAAGCAAGCCTGGGAAGATGGTATCTGCGGGATCTCCTCTGTTTCAAGAATGGAAAACATCATGTGGAGATCAGTAGAAGGGGAGCTCAACGCAATCCTGGAAGAGAATGGAGTTCAACTGACGGTCGTTGTGGGATCTGTAAAAAACCCCATGTGGAGAGGTCCACAGAGATTGCCCGTGCCTGTGAACGAGCTGCCCCACGGCTGGAAGGCTTGGGGGAAATCGTACTTCGTCAGAGCAGCAAAGACAAATAACAGCTTTGTCGTGGATGGTGACACACTGAAGGAATGCCCACTCAAACATAGAGCATGGAACAGCTTTCTTGTGGAGGATCATGGGTTCGGGGTATTTCACACTAGTGTCTGGCTCAAGGTTAGAGAAGATTATTCATTAGAGTGTGATCCAGCCGTTATTGGAACAGCTGTTAAGGGAAGGGAGGCTGTACACAGTGATCTAGGCTACTGGATTGAGAGTGAGAAGAATGACACATGGAGGCTGAAGAGGGCCCATCTGATCGAGATGAAAACATGTGAATGGCCAAAGTCCCACACATTGTGGACAGATGGAATAGAAGAGAGTGATCTGATCATACCCAAGTCTTTAGCTGGGCCACTCAGCCATCACAATACCAGAGAGGGCTACAGGACCCAAATGAAAGGGCCATGGCACAGTGAAGAGCTTGAAATTCGGTTTGAGGAATGCCCAGGCACTAAGGTCCACGTGGAGGAAACATGTGGAACAAGAGGACCATCTCTGAGATCAACCACTGCAAGCGGAAGGGTGATCGAGGAATGGTGCTGCAGGGAGTGCACAATGCCCCCACTGTCGTTCCGGGCTAAAGATGGCTGTTGGTATGGAATGGAGATAAGGCCCAGGAAGGAACCAGAAAGCAACTTGGTAAGGTCAATGGTGACTGCAGGATCAACTGATCACATGGATCACTTCTCCCTTGGAGTGCTTGTGATTCTGCTTATGGTGCAGGAAGGGCTGAAGAAGAGAATGACCACAAAGATCATCATAAGCACATCAATGGCAGTGCTGGTAGCCATGATCCTGGGAGGATTTTCAATGAGTGACCTGGCTAAGCTTGCAATTTTGATGGGTGCCACCTTCGCGGAAATGAACACTGGAGGAGATGTAGCTCATCTGGCGCTGATAGCGGCATTCAAAGTCAGACCAGCGTTGCTGGTATCTTTCATCTTCAGAGCTAATTGGACANNNNNNNNNNNNNNNNNNNNNNNNNNNNNNNNNNNNNNNNNNNNNNNNNNNATCTCCGCCTTGGAAGGCGACCTGATGGTTCTCATCAATGGTTTTGCTTTGGCCTGGTTGGCAATACGAGCGATGGTTGTTCCACGCACTGATAACATCACCTTGGCAATCCTGGCTGCTCTGACACCACTAGCCCGGGGCACACTGCTTGTGGCGTGGAGAGCAGGCCTTGCTACTTGCGGGGGGTTTATGCTCCTCTCTCTGAAGGGAAAAGGCAGTGTGAAGAAGAACTTACCATTTGTCATGGCCCTGGGACTAACCGCTGTGAGGCTGGTCGACCCCATCAACGTGGTGGGACTGCTGTTGCTCACAAGGAGTGGGAAGCGGAGCTGGCCCCCTAGCGAAGTACTCACAGCTGTTGGCCTGATATGCGCATTGGCTGGAGGGTTCGCCAAGGCAGATATAGAGATGGCTGGGCCCATGGCCGCGGTCGGTCTGCTAATTGTCAGTTACGTGGTCTCAGGAAAGAGTGTGGACATGTACATTGAAAGAGCAGGTGACATCACATGGGAAAAAGATGCGGAAGTCACTGGAAACAGTCCCCGGCTCGATGTGGCGCTAGATGAGAGTGGTGATTTCTCCCTGGTGGAGGATGACGGTCCCCCCATGAGAGAGATCATACTCAAGGTGGTCCTGATGACCATCTGTGGCATGAACCCAGTAGCCATACCCTTTGCAGCTGGAGCGTGGTACGTATACGTGAAGACTGGAAAAAGGAGTGGTGCTCTATGGGATGTGCCTGCTCCCAAGGAAGTAAAAAAGGGGGAGACCACAGATGGAGTGTACAGAGTAATGACTCGTAGACTGCTAGGTTCAACACAAGTTGGAGTGGGAGTTATGCAAGAGGGGGTCTTTCACACTATGTGGCACGTCACAAAAGGATCCGCGCTGAGAAGCGGTGAAGGGAGACTTGATCCATACTGGGGAGATGTCAAGCAGGATCTGGTGTCATACTGTGGTCCATGGAAGCTAGATGCCGCCTGGGACGGGCACAGCGAGGTGCAGCTCTTGGCCGTGCCCCCGGAGAGAGAGCGAGGAACATCCAGACTCTGCCCGGAATATTTAAGACAAAGGATGGGGACATTGGAGCGGTTGCGCTGGATTACCCAGCAGGAACTTCAGGATCTCCAATCCTAGACAAGTGTGGGAGAGTGATAGGACTTTATGGCAATGGGGTCGTGATCAAAAATGGGAGTTATGTTAGTGCCATCACCCAAGGGAGGAGGGAGGAAGAGACTCCTGTTGAGTGCTTCGAGCCTTCGATGCTGAAGAAGAAGCAGCTAACTGTCTTAGACTTGCATCCTGGAGCTGGGAAAACCAGGAGAGTTCTTCCTGAAATAGTCCGTGAAGCCATAAAAACAAGACTCCGTACCGTGATCTTAGCTCCAACCAGGGTTGTCGCTGCTGAAATGGAGGAAGCCCTTAGAGGGCTTCCAGTGCGTTATATGACAACAGCAGTCAATGTCACCCACTCTGGAACAGAAATCGTCGACTTAATGTGCCATGCCACCTTCACTTCACGTCTACTACAGCCAATCAGAGTCCCCAACTATAATCTGTATATTATGGATGAGGCCCACTTCACAGATCCCTCAAGTATAGCAGCAAGAGGATACATTTCAACAAGGGTTGAGATGGGCGAGGCGGCTGCCATCTTCATGACCGCCACGCCACCAGGAACCCGTGACGCATTTCCGGACTCCAACTCACCAATTATGGACACCGAAGTGGAAGTCCCAGAGAGAGCCTGGAGCTCAGGCTTTGATTGGGTGACGGATCATTCTGGAAAAACAGTTTGGTTTGTTCCAAGCGTGAGGAACGGCAATGAGATCGCAGCTTGTCTGACAAAGGCTGGAAAACGGGTCATACAGCTCAGCAGAAAGACTTTTGAGACAGAGTTCCAGAAAACAAAACATCAAGAGTGGGACTTTGTCGTGACAACTGACATTTCAGAGATGGGCGCCAACTTTAAAGCTGACCGTGTCATAGATTCCAGGAGATGCCTAAAGCCGGTCATACTTGATGGCGAGAGAGTCATTCTGGCTGGACCCATGCCTGTCACACATGCCAGCGCTGCCCAGAGGAGGGGGCGCATAGGCAGGAATCCCAACAAACCTGGAGATGAGTATCTGTATGGAGGTGGGTGCGCAGAGACTGACGAAGACCATGCACACTGGCTTGAAGCAAGAATGCTCCTTGACAATATTTACCTCCAAGATGGCCTCATAGCCTCGCTCTATCGACCTGAGGCCGACAAAGTAGCAGCCATTGAGGGAGAGTTCAAGCTTAGGACGGAGCAAAGGAAGACCTTTGTGGAACTCATGAAAAGAGGAGATCTTCCTGTTTGGCTGGCCTATCAGGTTGCATCTGCCGGAATAACCTACACAGATAGAAGATGGTGCTTTGATGGCACGACCAACAACACCATAATGGAAGACAGTGTGCCGGCAGAGGTGTGGACCAGACACGGAGAGAAAAGAGTGCTCAAACCGAGGTGGATGGACGCCAGAGTTTGTTCAGATCATGCGGCCCTGAAGTCATTCAAGGAGTTTGCCGCTGGGAAAAGAGGGGCGGCTTTTGGAGTGATGGAAGCCCTGGGAACACTGCCAGGACACATGACAGAGAGATTCCAGGAAGCCATTGACAACCTCGCTGTGCTCATGCGGGCAGAGACTGGAAGCAGGCCTTACAAAGCCGCGGCGGCCCAATTGCCGGAGACCCTAGAGACCATTATGCTTTTGGGGTTGCTGGGAACAGTCTCGCTGGGAATCTTTTTCGTCTTGATGAGGAACAAGGGCATAGGGAAGATGGGCTTTGGAATGGTGACTCTTGGGGCCAGCGCATGGCTCATGTGGCTCTCGGAAATTGAGCCAGCCAGAATTGCATGTGTCCTCATTGTTGTGTTCCTATTGCTGGTGGTGCTCATACCTGAGCCAGAAAAGCAAAGATCTCCCCAGGACAACCAAATGGCAATCATCATCATGGTAGCAGTAGGTCTTCTGGGCTTGATTACCGCCAATGAACTCGGATGGTTGGAGAGAACAAAGAGTGACCTAAGCCATCTAATGGGAAGGAGAGAGGAGGGGGCAACCATAGGATTCTCAATGGACATTGACCTGCGGCCAGCCTCAGCTTGGGCCATCTATGCTGCCTTGACAACTTTCATTACCCCAGCCGTCCAACATGCAGTGACCACTTCATACAACAACTACTCCTTAATGGCGATGGCCACGCAAGCTGGAGTGTTGTTTGGTATGGGCAAAGGGATGCCATTCTACGCATGGGACTTTGGAGTCCCGCTGCTAATGATAGGTTGCTACTCACAATTAACACCCCTGACCCTAATAGTGGCCATCATTTTGCTCGTGGCGCACTACATGTACTTGATCCCAGGGCTGCAGGCAGCAGCTGCGCGTGCTGCCCAGAAGAGAACGGCAGCTGGCATCATGAAGAACCCTGTTGTGGATGGAATAGTGGTGACTGACATTGACACAATGACTATTGACCCCCAAGTGGAGAAAAAGATGGGACAGGTGCTACTCATAGCAGTAGCCGTCTCCAGCGCCATACTGTCGCGGACCGCCTGGGGGTGGGGGGAGGCTGGGGCCCTGATCACAGCGGCAACTTCCACTTTGTGGGAAGGCTCTCCGAACAAGTACTGGAACTCCTCTACAGCCACTTCACTGTGTAACATTTTTAGGGGAAGTTACTTGGCTGGAGCTTCTCTAATCTACACAGTAACAAGAAACGCTGGCTTGGTCAAGAGACGTGGGGGTGGAACAGGAGAGACCCTGGGAGAGAAATGGAAGGCCCGCTTGAACCAGATGTCGGCCCTGGAGTTCTACTCCTACAAAAAGTCAGGCATCACCGAGGTGTGCAGAGAAGAGGCCCGCCGCGCCCTCAAGGACGGTGTGGCAACGGGAGGCCATGCTGTGTCCCGAGGAAGTGCAAAGCTGAGATGGTTGGTGGAGCGGGGATNCCTGCAGCCCTATGGAAAAGTCATTGATCTTGGATGTGGCAGAGGGGGCTGGAGTTACTACGCCGCCACCATCCGCAAAGTTCAAGAAGTGAAAGGATACACAAAAGGAGGCCCTGGTCATGAAGAACCCGTGTTGGTGCAAAGCTATGGGTGGAACATAGTCCGTCTTAAGAGTGGGGTGGACGTCTTTCATATGGCGGCTGAGCCGTGTGACACGTTGCTGTGTGACATAGGTGAGTCATCATCTAGTCCTGAAGTGGAAGAAGCACGGACGCTCAGAGTCCTCTCCATGGTGGGGGATTGGCTTGAAAAAAGACCAGGAGCCTTTTGTATAAAAGTGTTGTGCCCATACACCAGCACTATGATGGAAACCCTGGAGCGACTGCAGCGTAGGTATGGGGGAGGACTGGTCAGAGTGCCACTCTCCCGCAACTCTACACATGAGATGTACTGGGTCTCTGGAGCGAAAAGCAACACCATAAAAAGTGTGTCCACCACGAGCCAGCTCCTCTTGGGGCGCATGGACGGGCCTAGGAGGCCAGTGAAATATGAGGAGGATGTGAATCTCGGCTCTGGCACGCGGGCTGTGGTAAGCTGCGCTGAAGCTCCCAACATGAAGATCATTGGTAACCGCATTGAAAGGATCCGCAGTGAGCACGCGGAAACGTGGTTCTTTGACGAGAACCACCCATATAGGACATGGGCCTACCATGGAAGCTATGAGGCCCCCACACAAGGGTCAGCGTCCTCTCTAATAAACGGGGTTGTCAGGCTCCTGTCAAAACCCTGGGATGTGGTGACTGGAGTCACAGGAATAGCCATGACCGACACCACACCGTATGGTCAGCAAAGAGTTTTCAAGGAAAAAGTGGACACTAGGGTGCCAGACCCCCAAGAAGGCACTCGTCAGGTTATGAGCATGGTCTCTTCCTGGTTGTGGAAAGAGCTAGGCAAACACAAACGGCCACGAGTCTGTACCAAAGAAGAGTTCATCAACAAGGTTCGTAGCAATGCAGCATTAGGGGCAATATTTGAAGAGGAAAAAGAGTGGAAGACTGCAGTGGAAGCTGTGAACGATCCAAGGTTCTGGGCTCTAGTGGACAAGGAAAGAGAGCACCACCTGAGAGGAGAGTGCCAGAGTTGTGTGTACAACATGATGGGAAAAAGAGAAAAGAAACAAGGGGAATTTGGAAAGGCCAAGGGCAGTCGCGCCATCTGGTATATGTGGCTAGGGGCTAGATTTCTAGAGTTCGAAGCCCTTGGATTCTTGAACGAGGATCACTGGATGGGGAGAGAGAACTCAGGAGGTGGTGTTGAAGGGCTGGGATTACAAAGACTCGGATATGTCCTAGAAGAGATGAGTCGCATACCAGGAGGAAGGATGTATGCAGATGACACTGCTGGCTGGGACACCCGCATCAGCAGGTTTGATCTGGAGAATGAAGCTCTAATCACCAACCAAATGGAGAAAGGGCACAGGGCCTTGGCATTGGCCATAATCAAGTACACATACCAAAACAAAGTGGTAAAGGTCCTTAGACCAGCTGAAAAAGGGAAAACAGTTATGGACATTNNNNNNNNNNNNNNNCAAAGGGGGAGCGGACAAGTTGTCACTTACGCTCTTAACACATTTACCAACCTAGTGGTGCAACTCATTCGGAATATGGAGGCTGAGGAAGTTCTAGAGATGCAAGACTTGTGGCTGCTGCGGAGGTCAGAGAAAGTGACCAACTGGTTGCAGAGCAACGGATGGGATAGGCTCAAACGAATGGCAGTCAGTGGAGATGATTGCGTTGTGAAGCCAATTGATGATAGGTTTGCACATGCCCTCAGGTTCTTGAATGATATGGGAAAAGTTAGGAAGGACACACAAGAGTGGAAACCCTCAACTGGATGGGACAACTGGGAAGAAGTTCCGTTTTGCTCCCACCACTTCAACAAGCTCCATCTCAAGGACGGGAGGTCCATTGTGGTTCCCTGCCGCCACCAAGATGAACTGATTGGCCGGGCCCGCGTCTCTCCAGGGGCGGGATGGAGCANNNNNNNNNNNNNNNNNNNNNNNNNNNNNNNNNNNNNNNNNNNNNNNNNNNNNNNNNNNNNNAGAAGGGACCTCCGACTGATGGCCAATGCCATTTGTTCATCTGTGCCAGTTGACTGGGTTCCAACTGGGAGAACTACCTGGTCAATCCATGGAAAGGGAGAATGGATGACCACTGAAGACATGCTTGTGGTGTGGAACAGAGTGTGGATTGAGGAGAACGACCACATGGAAGACAAGACCCCAGTTACGAAATGGACAGACATTCCCTACTTGGGAAAAAGGGAAGACTTGTGGTGTGGATCTCTCATAGGGCACAGACCGCGCACCACCTGGGCTGAGAACATTAAGAACACAGTCAACATGGTGCGCAGGATCATAGGTGATGAAGAAAAGTACATGGACTACCTATCCACCCAAGTTCGCTACTTGGGTGAAGAAGGGTCTACACCTGGAGTGCTGTANGCACCAATCTTAATGTTGTCAGGCCTGCTAGTCAGCCACAGCTTGGGGAAAGCTGTGCAGCCTGTGACCCCCCCAGGAGAAGCTGGGAAACCAAGCCTATAGTCAGGCCGAGAACGCCATGGCACGGAAGAAGCCATGCTGCCTGTGAGCCCCTCAGAGGACACTGAGTCAAAAAACCCCACGCGCTTGGAGGCGCAGGATGGGAAAAGAAGGTGGCGACCTTCCCCACCCTTCAATCTGGGGCCTGAACTGGAGATCAGCTGTGGATCTCCAGAAGAGGGACTAGTGGTTAGAGGAGACCCCCCGGAAAACGCAAAACAGCATATTGACGCTGGGAAAGACCAGAGACTCCATGAGTTTCCaccacgctggccgccaggcacagatcgccgaaTAGCGGCGGCCAGTGTGGGGAAANNNNNNNNNNNN'\n",
    "\n",
    "\n",
    "\n"
   ]
  },
  {
   "cell_type": "markdown",
   "metadata": {},
   "source": [
    "# Lists"
   ]
  },
  {
   "cell_type": "code",
   "execution_count": null,
   "metadata": {},
   "outputs": [],
   "source": [
    "# The list is a variable type that is used to store an ordered collection of items\n",
    "emptylist1 = []       # This is one way to create an empty list\n",
    "emptylist2 = list()   # This is another way\n",
    "\n",
    "print (type(emptylist1))\n",
    "print (type(emptylist2))\n"
   ]
  },
  {
   "cell_type": "code",
   "execution_count": null,
   "metadata": {},
   "outputs": [],
   "source": [
    "# The items stored in a list can be of any type: strings, integers, floats, even other lists or dictionaries\n",
    "# And all of these types can be stored together within a single list\n",
    "\n",
    "# For example, here is a list containing: a string, an integer, a float, another string\n",
    "    # and finally another list with two strings and two integers \n",
    "thisIsAList = ['This is a string', 3, 4.5, \"askdjfh\", ['3', '4', 3, 4]]\n",
    "\n",
    "print (\"This is what it looks like when you print a list\")\n",
    "print (thisIsAList)\n",
    "\n",
    "# You can check the number of items in a list by using the len() function\n",
    "    # This is the same function you use to check the length of strings (i.e., the number of charcaters in a string)\n",
    "print(\"\\nThis list contains this many items:\", len(thisIsAList))\n"
   ]
  },
  {
   "cell_type": "markdown",
   "metadata": {},
   "source": [
    "# List methods"
   ]
  },
  {
   "cell_type": "code",
   "execution_count": null,
   "metadata": {},
   "outputs": [],
   "source": [
    "# Just like with strings, we can use the dir() function to look at the built-in methods associated with a list\n",
    "print (dir(thisIsAList))"
   ]
  },
  {
   "cell_type": "code",
   "execution_count": null,
   "metadata": {},
   "outputs": [],
   "source": [
    "# Unlike strings, lists are mutable\n",
    "    # Therefore, many of the list methods will directly make changes to specified list\n",
    "    # In other words, you don't need to make a copy to save the changes\n",
    "\n",
    "# Let's generate a simple list to play with\n",
    "l=[1,2,3]\n",
    "print(\"Starting list:\", l, \"\\n\")\n",
    "\n",
    "# One of the most commonly used methods is to add a single item to the end of a list using the append method\n",
    "l.append(4)\n",
    "print (\"After appending the integer 4:\", l, \"\\n\")\n",
    "\n",
    "# If you want to add several items to the end of a list, you can use the extend method\n",
    "l.extend([5,6,7])\n",
    "print (\"After extending list to include 5, 6 and 7:\", l, \"\\n\")\n",
    "\n",
    "# You can also insert items into the middle of the list, by specifying the 0-indexed position at which you want the new item to go\n",
    "# The 1st integer specifies the location, the 2nd specifies the item to be inserted\n",
    "l.insert(1, 8)\n",
    "l.insert(4, 9)\n",
    "print (\"After inserting two integers:\", l, \"\\n\")\n",
    "\n",
    "# There's even a method for sorting the items of a list, ascending order\n",
    "l.sort()\n",
    "print (\"After sorting the list, in place:\", l, \"\\n\")\n",
    "\n",
    "# Or descending order\n",
    "l.reverse()\n",
    "print (\"After reverse sorting the list, in place:\", l, \"\\n\")\n",
    "\n",
    "#There are also a couple of built-in list methods for removing items\n",
    "\n",
    "# The remove method removes items based on identity\n",
    "l.remove(8)\n",
    "print (\"After removing the number 8:\", l, \"\\n\")\n",
    "\n",
    "# The pop method removes items based on location, and also returns the item that has been removed\n",
    "removed = l.pop(1)\n",
    "print (\"After removing 2nd item in the list:\", l, \"\\n\")\n",
    "print(\"This is the item that was just removed:\", removed, \"\\n\")\n"
   ]
  },
  {
   "cell_type": "markdown",
   "metadata": {
    "collapsed": true
   },
   "source": [
    "# Assignment 1.4\n",
    "\n",
    "## In the cell below, I've initialized a list with several integers. Using a combination of the methods mentioned above (with the exception of sort and reverse), modify this list so that it contains the numbers 1-10 sorted in asecending order. \n",
    "\n",
    "## Print out final list\n",
    "\n"
   ]
  },
  {
   "cell_type": "code",
   "execution_count": null,
   "metadata": {},
   "outputs": [],
   "source": [
    "l = [1, 3, 11, 5, 6, 8, 10]\n",
    "\n"
   ]
  },
  {
   "cell_type": "markdown",
   "metadata": {
    "collapsed": true
   },
   "source": [
    "# Assignment 1.5\n",
    "\n",
    "## Redo assignment 1.4 but this time, use sort to simplify the process\n"
   ]
  },
  {
   "cell_type": "code",
   "execution_count": null,
   "metadata": {},
   "outputs": [],
   "source": [
    "k = [1, 3, 11, 5, 6, 8, 10]\n",
    "\n"
   ]
  },
  {
   "cell_type": "markdown",
   "metadata": {},
   "source": [
    "# Dictionaries"
   ]
  },
  {
   "cell_type": "code",
   "execution_count": null,
   "metadata": {},
   "outputs": [],
   "source": [
    "# Dictionaries allow you to store key:value pairs\n",
    "emptydict1 = {}       # This is one way to create an empty dictionary\n",
    "emptydict2 = dict()   # This is another way\n",
    "\n",
    "print (type(emptydict1))\n",
    "print (type(emptydict2))\n"
   ]
  },
  {
   "cell_type": "code",
   "execution_count": null,
   "metadata": {},
   "outputs": [],
   "source": [
    "# You can also define a dictionary along with key:value pairs\n",
    "d = {1: \"one\", \"one\": 1, 2: \"two\", \"two\": 2, 3: \"three\", \"three\": 3, 4: \"four\", \"four\": 4}\n",
    "\n",
    "# Prior to Python 3.7, the contents of dictionaries were unordered, meaning that the order you would see when printing a dictionary would not be the order you inserted the items\n",
    "# With 3.7+, the insertion order is maintained, therefore, when you print the dictionary below, you may or may not see the keys in the same order they are listed below\n",
    "print (\"This is what it looks like when you print a dictionary:\\n\", d, \"\\n\")\n"
   ]
  },
  {
   "cell_type": "code",
   "execution_count": null,
   "metadata": {},
   "outputs": [],
   "source": [
    "# You access values from a dictionary using the keys\n",
    "# So, for example, this is how we would access the value associated with the key \"two\":\n",
    "print(d[\"two\"])"
   ]
  },
  {
   "cell_type": "code",
   "execution_count": null,
   "metadata": {},
   "outputs": [],
   "source": [
    "# Using a similar syntax, you can add new key:value pairs\n",
    "d[10] = \"ten\"\n",
    "\n",
    "# Or you can modify the value associated with an existing key\n",
    "d[1]=1.0\n",
    "\n",
    "print (\"Here is the modified dictionary:\\n\", d, \"\\n\")\n",
    "\n",
    "#Note that these changes are made \"in place\" because dictionaries are MUTABLE"
   ]
  },
  {
   "cell_type": "code",
   "execution_count": null,
   "metadata": {},
   "outputs": [],
   "source": [
    "# Remember, keys can be any NON-MUTABLE variable type. This means lists and dictionaries cannot be keys\n",
    "# Therefore, this should result in an error\n",
    "d[[\"a\", \"b\"]] = \"letters\"\n"
   ]
  },
  {
   "cell_type": "code",
   "execution_count": null,
   "metadata": {},
   "outputs": [],
   "source": [
    "# The len() function that we've already used for strings and lists also works on dictionaries\n",
    "# In this case, it returns the number of key:value pairs\n",
    "\n",
    "print(\"d contains this many key:value pairs:\", len(d))"
   ]
  },
  {
   "cell_type": "code",
   "execution_count": null,
   "metadata": {},
   "outputs": [],
   "source": [
    "# Again, we can take a look at the built-in methods using the dir() function\n",
    "print(\"\\nHere are the built-in methods/functions associated with dictionaries in Python (many are __magic__):\")\n",
    "print (dir(d))"
   ]
  },
  {
   "cell_type": "code",
   "execution_count": null,
   "metadata": {},
   "outputs": [],
   "source": [
    "# One handy dictionary method is update\n",
    "# This method can be used to merge two dictionaries into one\n",
    "\n",
    "d1 = {\"a\":1, \"b\":2, \"c\":3}   # Initialize one dictionary\n",
    "d2 = {\"d\":4, \"e\":5, \"f\":6}   # Initialize another dictionary\n",
    "\n",
    "#Add the key:value pairs from the second dictionary into the 1st\n",
    "d1.update(d2)\n",
    "print(\"Updated 1st dictionary:\", d1, \"\\n\")\n",
    "print(\"Unchanged 2nd dictionary:\", d2, \"\\n\")"
   ]
  },
  {
   "cell_type": "code",
   "execution_count": null,
   "metadata": {},
   "outputs": [],
   "source": [
    "# Some of the most useful dictionary methods are most useful in the context of for loops, which we will discuss next week\n",
    "# For example, the items method allows you to step through each key:value pair in the dictionary\n",
    "# This is beyond what I expect you to understand this week, but here is just a little taste of what is to come\n",
    "\n",
    "for key, value in d1.items():\n",
    "    print(key, value)"
   ]
  },
  {
   "cell_type": "markdown",
   "metadata": {
    "collapsed": true
   },
   "source": [
    "# Assignment 1.6\n",
    "\n",
    "## codonTable is a dictionary that links DNA codons to amino acids. Let's use some of the functions and methods described above to explore and manipulate this table\n",
    "\n",
    "### 1. How many key:value pairs are contained in codonTables? Please print this value to the screen.\n",
    "### 2. Those familiar with their codons may notice that this table is missing 3 of the possible codons. The three missing codons are the stop codons. Create a separate dictionary called 'stopCodons' with these three codons as keys and '*' as the value for each. Then add these key:value pairs to codonTable using update().\n",
    "### 3. abbrevTable links the single letter abbreviations for each amino acid to the long form name. There are currently two mistakes though. The \"acid\" part of the long form name has been left off for Aspartic Acid (D) and Glutamic Acid (E). Please fix these two mistakes. \n",
    "### 4. Compose a single expression that utilizes both codonTable and abbrevTable to print the long form name for the amino acid encoded by 'ATC'. This will require you to nest a call to one dictionary inside a call to the other.\n"
   ]
  },
  {
   "cell_type": "code",
   "execution_count": null,
   "metadata": {},
   "outputs": [],
   "source": [
    "codonTable={'TTT': 'F', 'TTC': 'F', 'TTA': 'L', 'TTG': 'L', 'TCT': 'S', 'TCC': 'S', 'TCA': 'S', 'TCG': 'S', 'TAT': 'Y', 'TAC': 'Y', 'TGT': 'C', 'TGC': 'C', 'TGG': 'W', 'CTT': 'L', 'CTC': 'L', 'CTA': 'L', 'CTG': 'L', 'CCT': 'P', 'CCC': 'P', 'CCA': 'P', 'CCG': 'P', 'CAT': 'H', 'CAC': 'H', 'CAA': 'Q', 'CAG': 'Q', 'CGT': 'R', 'CGC': 'R', 'CGA': 'R', 'CGG': 'R', 'ATT': 'I', 'ATC': 'I', 'ATA': 'I', 'ATG': 'M', 'ACT': 'T', 'ACC': 'T', 'ACA': 'T', 'ACG': 'T', 'AAT': 'N', 'AAC': 'N', 'AAA': 'K', 'AAG': 'K', 'AGT': 'S', 'AGC': 'S', 'AGA': 'R', 'AGG': 'R', 'GTT': 'V', 'GTC': 'V', 'GTA': 'V', 'GTG': 'V', 'GCT': 'A', 'GCC': 'A', 'GCA': 'A', 'GCG': 'A', 'GAT': 'D', 'GAC': 'D', 'GAA': 'E', 'GAG': 'E', 'GGT': 'G', 'GGC': 'G', 'GGA': 'G', 'GGG': 'G'}\n",
    "\n",
    "\n",
    "\n",
    "abbrevTable={\"A\":\"Alanine\", \"R\":\"Arginine\", \"N\":\"Asparagine\", \"D\":\"Aspartic\", \"C\":\"Cysteine\", \"E\":\"Glutamic\", \"Q\":\"Glutamine\", \"G\":\"Glycine\", \"H\":\"Histidine\", \"I\":\"Isoleucine\", \"L\":\"Leucine\", \"K\":\"Lysine\", \"M\":\"Methionine\", \"F\":\"Phenylalanine\", \"P\":\"Proline\", \"S\":\"Serine\", \"T\":\"Threonine\", \"W\":\"Tryptophan\", \"Y\":\"Tyrosine\", \"V\":\"Valine\", \"*\":\"Stop\"}\n",
    "\n"
   ]
  }
 ],
 "metadata": {
  "kernelspec": {
   "display_name": "Python 3",
   "language": "python",
   "name": "python3"
  },
  "language_info": {
   "codemirror_mode": {
    "name": "ipython",
    "version": 3
   },
   "file_extension": ".py",
   "mimetype": "text/x-python",
   "name": "python",
   "nbconvert_exporter": "python",
   "pygments_lexer": "ipython3",
   "version": "3.8.5"
  }
 },
 "nbformat": 4,
 "nbformat_minor": 2
}
